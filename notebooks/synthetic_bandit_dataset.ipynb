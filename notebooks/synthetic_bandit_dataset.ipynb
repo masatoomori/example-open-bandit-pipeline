{
 "cells": [
  {
   "cell_type": "code",
   "execution_count": 1,
   "metadata": {},
   "outputs": [
    {
     "name": "stderr",
     "output_type": "stream",
     "text": [
      "/Volumes/SSD-PSMU3/GitHub/example-open-bandit-pipeline/.venv/lib/python3.10/site-packages/tqdm/auto.py:21: TqdmWarning: IProgress not found. Please update jupyter and ipywidgets. See https://ipywidgets.readthedocs.io/en/stable/user_install.html\n",
      "  from .autonotebook import tqdm as notebook_tqdm\n"
     ]
    }
   ],
   "source": [
    "from sklearn.linear_model import LogisticRegression\n",
    "\n",
    "from obp.dataset import (\n",
    "    SyntheticBanditDataset,\n",
    "    logistic_reward_function,\n",
    "    linear_behavior_policy,\n",
    ")\n",
    "\n",
    "from obp.policy import IPWLearner, Random\n",
    "from obp.ope import (\n",
    "    OffPolicyEvaluation,\n",
    "    RegressionModel,\n",
    "    InverseProbabilityWeighting as IPS,\n",
    "    DoublyRobust as DR,\n",
    ")"
   ]
  },
  {
   "cell_type": "markdown",
   "metadata": {},
   "source": [
    "## 人工データの生成\n",
    "\n",
    "p.87"
   ]
  },
  {
   "cell_type": "markdown",
   "metadata": {},
   "source": [
    "生成データフォーマット\n",
    "\n",
    "- `n_rounds`: データ数\n",
    "- `n_actions`: 意思決定モデルが選択できる行動の数\n",
    "- `context`: 各データに対する特徴量\n",
    "- `action_context`: 行動を表現するone-hotベクトル\n",
    "- `action`: 過去の意思決定モデル`pi_b`によって選択された行動\n",
    "- `reward`: 過去の意思決定モデル`pi_b`によって選択された行動に対する報酬\n",
    "- `expected_reward`: 各行動に対する報酬の期待値。因果推論モデルで最終的に得たい情報\n",
    "- `pscore`: 過去の意思決定モデル`pi_b`による行動選択確率"
   ]
  },
  {
   "cell_type": "code",
   "execution_count": 2,
   "metadata": {},
   "outputs": [],
   "source": [
    "dataset = SyntheticBanditDataset(\n",
    "    n_actions=3,\n",
    "    dim_context=5,\n",
    "    reward_function=logistic_reward_function,\n",
    "    behavior_policy_function=linear_behavior_policy,\n",
    "    random_state=12345,\n",
    ")"
   ]
  },
  {
   "cell_type": "code",
   "execution_count": 3,
   "metadata": {},
   "outputs": [],
   "source": [
    "training_data = dataset.obtain_batch_bandit_feedback(n_rounds=10000)\n",
    "validation_data = dataset.obtain_batch_bandit_feedback(n_rounds=10000)"
   ]
  },
  {
   "cell_type": "code",
   "execution_count": 4,
   "metadata": {},
   "outputs": [
    {
     "data": {
      "text/plain": [
       "{'n_rounds': 10000,\n",
       " 'n_actions': 3,\n",
       " 'context': array([[-0.20470766,  0.47894334, -0.51943872, -0.5557303 ,  1.96578057],\n",
       "        [ 1.39340583,  0.09290788,  0.28174615,  0.76902257,  1.24643474],\n",
       "        [ 1.00718936, -1.29622111,  0.27499163,  0.22891288,  1.35291684],\n",
       "        ...,\n",
       "        [-1.27028221,  0.80914602, -0.45084222,  0.47179511,  1.89401115],\n",
       "        [-0.68890924,  0.08857502, -0.56359347, -0.41135069,  0.65157486],\n",
       "        [ 0.51204121,  0.65384817, -1.98849253, -2.14429131, -0.34186901]]),\n",
       " 'action_context': array([[1, 0, 0],\n",
       "        [0, 1, 0],\n",
       "        [0, 0, 1]]),\n",
       " 'action': array([2, 1, 0, ..., 0, 0, 2]),\n",
       " 'position': None,\n",
       " 'reward': array([0, 1, 1, ..., 0, 1, 1]),\n",
       " 'expected_reward': array([[0.90550599, 0.63788051, 0.07940653],\n",
       "        [0.92452392, 0.84562223, 0.25208537],\n",
       "        [0.69851411, 0.50998591, 0.07404111],\n",
       "        ...,\n",
       "        [0.98848873, 0.93172544, 0.16875497],\n",
       "        [0.93408855, 0.65101561, 0.39983279],\n",
       "        [0.82463779, 0.24446592, 0.75860861]]),\n",
       " 'pi_b': array([[[0.28568467],\n",
       "         [0.39314187],\n",
       "         [0.32117346]],\n",
       " \n",
       "        [[0.31097095],\n",
       "         [0.37625094],\n",
       "         [0.31277811]],\n",
       " \n",
       "        [[0.33925587],\n",
       "         [0.3908709 ],\n",
       "         [0.26987322]],\n",
       " \n",
       "        ...,\n",
       " \n",
       "        [[0.31600888],\n",
       "         [0.39102049],\n",
       "         [0.29297063]],\n",
       " \n",
       "        [[0.31734372],\n",
       "         [0.36608294],\n",
       "         [0.31657334]],\n",
       " \n",
       "        [[0.24903742],\n",
       "         [0.31446188],\n",
       "         [0.4365007 ]]]),\n",
       " 'pscore': array([0.32117346, 0.37625094, 0.33925587, ..., 0.31600888, 0.31734372,\n",
       "        0.4365007 ])}"
      ]
     },
     "execution_count": 4,
     "metadata": {},
     "output_type": "execute_result"
    }
   ],
   "source": [
    "training_data"
   ]
  },
  {
   "cell_type": "code",
   "execution_count": 5,
   "metadata": {},
   "outputs": [
    {
     "data": {
      "text/plain": [
       "[[1, 0, 0], [0, 1, 0], [0, 0, 1]]"
      ]
     },
     "execution_count": 5,
     "metadata": {},
     "output_type": "execute_result"
    }
   ],
   "source": [
    "training_data[\"action_context\"].tolist()"
   ]
  },
  {
   "cell_type": "code",
   "execution_count": 6,
   "metadata": {},
   "outputs": [
    {
     "data": {
      "text/plain": [
       "{0, 1}"
      ]
     },
     "execution_count": 6,
     "metadata": {},
     "output_type": "execute_result"
    }
   ],
   "source": [
    "set(training_data[\"reward\"].tolist())"
   ]
  },
  {
   "cell_type": "code",
   "execution_count": 7,
   "metadata": {},
   "outputs": [
    {
     "data": {
      "text/plain": [
       "{'n_rounds': 10000,\n",
       " 'n_actions': 3,\n",
       " 'context': array([[ 0.43473651,  0.28892246, -0.80945479,  1.59442032,  0.86886285],\n",
       "        [ 0.40338143, -0.47894608, -0.06737703, -2.65932054, -0.83837731],\n",
       "        [ 2.47244458,  0.59674369,  0.61911426, -0.20459904,  0.14098079],\n",
       "        ...,\n",
       "        [ 1.42408759,  0.43832029,  1.60780305, -0.27684065, -1.41350158],\n",
       "        [-0.65257593, -1.4938017 , -0.66387424,  0.68710758, -1.25823339],\n",
       "        [-1.02877579,  0.40254317, -0.24025777,  0.22296652, -1.10929397]]),\n",
       " 'action_context': array([[1, 0, 0],\n",
       "        [0, 1, 0],\n",
       "        [0, 0, 1]]),\n",
       " 'action': array([2, 1, 0, ..., 0, 0, 2]),\n",
       " 'position': None,\n",
       " 'reward': array([0, 0, 0, ..., 0, 1, 1]),\n",
       " 'expected_reward': array([[0.9957313 , 0.98496983, 0.57728875],\n",
       "        [0.13346901, 0.01509507, 0.6312733 ],\n",
       "        [0.68350644, 0.4603164 , 0.64775476],\n",
       "        ...,\n",
       "        [0.5674272 , 0.25620438, 0.94997752],\n",
       "        [0.96964232, 0.82302469, 0.901332  ],\n",
       "        [0.98041991, 0.82988144, 0.95507121]]),\n",
       " 'pi_b': array([[[0.34145177],\n",
       "         [0.35225346],\n",
       "         [0.30629477]],\n",
       " \n",
       "        [[0.2769999 ],\n",
       "         [0.34364195],\n",
       "         [0.37935815]],\n",
       " \n",
       "        [[0.26927488],\n",
       "         [0.34718045],\n",
       "         [0.38354468]],\n",
       " \n",
       "        ...,\n",
       " \n",
       "        [[0.30037612],\n",
       "         [0.33335035],\n",
       "         [0.36627353]],\n",
       " \n",
       "        [[0.40773329],\n",
       "         [0.32200523],\n",
       "         [0.27026148]],\n",
       " \n",
       "        [[0.34490684],\n",
       "         [0.32688555],\n",
       "         [0.32820761]]]),\n",
       " 'pscore': array([0.30629477, 0.34364195, 0.26927488, ..., 0.30037612, 0.40773329,\n",
       "        0.32820761])}"
      ]
     },
     "execution_count": 7,
     "metadata": {},
     "output_type": "execute_result"
    }
   ],
   "source": [
    "validation_data"
   ]
  },
  {
   "cell_type": "markdown",
   "metadata": {},
   "source": [
    "## 意思決定モデルの学習\n",
    "\n",
    "p.90"
   ]
  },
  {
   "cell_type": "code",
   "execution_count": 8,
   "metadata": {},
   "outputs": [],
   "source": [
    "ipw_learner = IPWLearner(\n",
    "    n_actions=dataset.n_actions,\n",
    "    base_classifier=LogisticRegression(C=100, random_state=12345),\n",
    ")"
   ]
  },
  {
   "cell_type": "code",
   "execution_count": 9,
   "metadata": {},
   "outputs": [],
   "source": [
    "ipw_learner.fit(\n",
    "    context=training_data[\"context\"],\n",
    "    action=training_data[\"action\"],\n",
    "    reward=training_data[\"reward\"],\n",
    "    pscore=training_data[\"pscore\"],\n",
    ")"
   ]
  },
  {
   "cell_type": "code",
   "execution_count": 10,
   "metadata": {},
   "outputs": [],
   "source": [
    "action_choice_by_ipw_learner = ipw_learner.predict(\n",
    "    context=validation_data[\"context\"]\n",
    ")"
   ]
  },
  {
   "cell_type": "code",
   "execution_count": 11,
   "metadata": {},
   "outputs": [
    {
     "data": {
      "text/plain": [
       "array([[[0.],\n",
       "        [1.],\n",
       "        [0.]],\n",
       "\n",
       "       [[1.],\n",
       "        [0.],\n",
       "        [0.]],\n",
       "\n",
       "       [[1.],\n",
       "        [0.],\n",
       "        [0.]],\n",
       "\n",
       "       ...,\n",
       "\n",
       "       [[0.],\n",
       "        [0.],\n",
       "        [1.]],\n",
       "\n",
       "       [[1.],\n",
       "        [0.],\n",
       "        [0.]],\n",
       "\n",
       "       [[0.],\n",
       "        [0.],\n",
       "        [1.]]])"
      ]
     },
     "execution_count": 11,
     "metadata": {},
     "output_type": "execute_result"
    }
   ],
   "source": [
    "action_choice_by_ipw_learner"
   ]
  },
  {
   "cell_type": "markdown",
   "metadata": {},
   "source": [
    "### ランダム行動"
   ]
  },
  {
   "cell_type": "code",
   "execution_count": 12,
   "metadata": {},
   "outputs": [],
   "source": [
    "# 比較のためにランダムに行動を選択する\n",
    "random = Random(n_actions=dataset.n_actions, random_state=12345)\n",
    "\n",
    "# バリデーションデータに対して行動選択確率を計算する -> これはランダムなので、行動選択確率は一様分布\n",
    "action_choice_by_random = random.compute_batch_action_dist(\n",
    "    n_rounds=validation_data[\"n_rounds\"]\n",
    ")"
   ]
  },
  {
   "cell_type": "markdown",
   "metadata": {},
   "source": [
    "## 意思決定モデルの性能を評価する\n",
    "\n",
    "p.92"
   ]
  },
  {
   "cell_type": "code",
   "execution_count": 13,
   "metadata": {},
   "outputs": [],
   "source": [
    "# DR推定量を用いるために必要な目的変数予測モデルを構築する\n",
    "# opeモジュールに実装されているRegressionModelに好みの機械学習モデルを渡すことで、目的変数予測モデルを構築できる\n",
    "regression_model = RegressionModel(\n",
    "    n_actions=dataset.n_actions,\n",
    "    base_model=LogisticRegression(C=100, random_state=12345),\n",
    ")\n",
    "\n",
    "# fit_predictメソッドを用いることで、構築した目的変数予測モデルを用いて、バリデーションデータに対する期待報酬を推定できる\n",
    "estimated_rewards_by_reg_model = regression_model.fit_predict(\n",
    "    context=validation_data[\"context\"],\n",
    "    action=validation_data[\"action\"],\n",
    "    reward=validation_data[\"reward\"],\n",
    "    n_folds=3,\n",
    "    random_state=12345,\n",
    ")"
   ]
  },
  {
   "cell_type": "code",
   "execution_count": 14,
   "metadata": {},
   "outputs": [
    {
     "data": {
      "text/plain": [
       "array([[[0.97784801],\n",
       "        [0.90777582],\n",
       "        [0.9140003 ]],\n",
       "\n",
       "       [[0.36767396],\n",
       "        [0.12236525],\n",
       "        [0.13924521]],\n",
       "\n",
       "       [[0.81234159],\n",
       "        [0.48930046],\n",
       "        [0.50719788]],\n",
       "\n",
       "       ...,\n",
       "\n",
       "       [[0.84216585],\n",
       "        [0.56129532],\n",
       "        [0.59750201]],\n",
       "\n",
       "       [[0.94070907],\n",
       "        [0.79185876],\n",
       "        [0.81529846]],\n",
       "\n",
       "       [[0.96404902],\n",
       "        [0.86541046],\n",
       "        [0.88180353]]])"
      ]
     },
     "execution_count": 14,
     "metadata": {},
     "output_type": "execute_result"
    }
   ],
   "source": [
    "estimated_rewards_by_reg_model"
   ]
  },
  {
   "cell_type": "code",
   "execution_count": 15,
   "metadata": {},
   "outputs": [],
   "source": [
    "# 意思決定モデルの性能評価を一気通貫で行うためのOffPolicyEvaluationを定義する\n",
    "ope = OffPolicyEvaluation(\n",
    "    bandit_feedback=validation_data,\n",
    "    ope_estimators=[IPS(), DR()],   # 意思決定モデルの性能評価に用いるOPE推定量を指定する\n",
    ")"
   ]
  },
  {
   "cell_type": "markdown",
   "metadata": {},
   "source": [
    "### 可視化"
   ]
  },
  {
   "cell_type": "code",
   "execution_count": 16,
   "metadata": {},
   "outputs": [
    {
     "name": "stderr",
     "output_type": "stream",
     "text": [
      "/Volumes/SSD-PSMU3/GitHub/example-open-bandit-pipeline/.venv/lib/python3.10/site-packages/seaborn/categorical.py:82: FutureWarning: iteritems is deprecated and will be removed in a future version. Use .items instead.\n",
      "  plot_data = [np.asarray(s, float) for k, s in iter_data]\n",
      "/Volumes/SSD-PSMU3/GitHub/example-open-bandit-pipeline/.venv/lib/python3.10/site-packages/seaborn/categorical.py:82: FutureWarning: iteritems is deprecated and will be removed in a future version. Use .items instead.\n",
      "  plot_data = [np.asarray(s, float) for k, s in iter_data]\n"
     ]
    },
    {
     "data": {
      "image/png": "[encoded data removed]",
      "text/plain": [
       "<Figure size 800x1240 with 2 Axes>"
      ]
     },
     "metadata": {},
     "output_type": "display_data"
    }
   ],
   "source": [
    "# IPWLearner + ロジスティック回帰の性能をIPS推定量とDR推定量で評価する\n",
    "ope.visualize_off_policy_estimates_of_multiple_policies(\n",
    "    policy_name_list=[\"IPWLearner\", \"Random\"],   # 比較する意思決定モデルの名前\n",
    "    action_dist_list=[\n",
    "        action_choice_by_ipw_learner,   # IPWLearnerの行動選択確率\n",
    "        action_choice_by_random,   # ランダムな行動選択確率\n",
    "    ],\n",
    "    estimated_rewards_by_reg_model=estimated_rewards_by_reg_model,   # 目的変数予測モデルによる期待報酬の推定値\n",
    "    random_state=12345,\n",
    ")"
   ]
  },
  {
   "cell_type": "markdown",
   "metadata": {},
   "source": [
    "### 真の性能評価\n",
    "\n",
    "通常はexpected_rewardを知らないので、上記のように因果推論モデルで推定する"
   ]
  },
  {
   "cell_type": "code",
   "execution_count": 17,
   "metadata": {},
   "outputs": [
    {
     "name": "stdout",
     "output_type": "stream",
     "text": [
      "Performance of IPWLearner: 0.8363312686688807\n",
      "Performance of Random: 0.6766063835071588\n"
     ]
    }
   ],
   "source": [
    "# IPWLearnerとrandomの真の性能を計算する\n",
    "performance_of_ipw_learner = dataset.calc_ground_truth_policy_value(\n",
    "    expected_reward=validation_data[\"expected_reward\"],\n",
    "    action_dist=action_choice_by_ipw_learner,\n",
    ")\n",
    "performance_of_random = dataset.calc_ground_truth_policy_value(\n",
    "    expected_reward=validation_data[\"expected_reward\"],\n",
    "    action_dist=action_choice_by_random,\n",
    ")\n",
    "\n",
    "print(\"Performance of IPWLearner:\", performance_of_ipw_learner)\n",
    "print(\"Performance of Random:\", performance_of_random)"
   ]
  }
 ],
 "metadata": {
  "kernelspec": {
   "display_name": ".venv",
   "language": "python",
   "name": "python3"
  },
  "language_info": {
   "codemirror_mode": {
    "name": "ipython",
    "version": 3
   },
   "file_extension": ".py",
   "mimetype": "text/x-python",
   "name": "python",
   "nbconvert_exporter": "python",
   "pygments_lexer": "ipython3",
   "version": "3.10.10"
  }
 },
 "nbformat": 4,
 "nbformat_minor": 2
}
