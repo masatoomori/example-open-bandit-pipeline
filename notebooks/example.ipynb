{
 "cells": [
  {
   "cell_type": "code",
   "execution_count": 1,
   "metadata": {},
   "outputs": [
    {
     "name": "stderr",
     "output_type": "stream",
     "text": [
      "/Volumes/SSD-PSMU3/GitHub/example-open-bandit-pipeline/.venv/lib/python3.10/site-packages/tqdm/auto.py:21: TqdmWarning: IProgress not found. Please update jupyter and ipywidgets. See https://ipywidgets.readthedocs.io/en/stable/user_install.html\n",
      "  from .autonotebook import tqdm as notebook_tqdm\n"
     ]
    }
   ],
   "source": [
    "from sklearn.linear_model import LogisticRegression\n",
    "\n",
    "from obp.dataset import (\n",
    "    SyntheticBanditDataset,\n",
    "    logistic_reward_function,\n",
    "    linear_behavior_policy,\n",
    ")\n",
    "\n",
    "from obp.policy import IPWLearner, Random\n",
    "from obp.ope import (\n",
    "    OffPolicyEvaluation,\n",
    "    RegressionModel,\n",
    "    InverseProbabilityWeighting as IPS,\n",
    "    DoublyRobust as DR,\n",
    ")"
   ]
  },
  {
   "cell_type": "markdown",
   "metadata": {},
   "source": [
    "## 人工データの生成\n",
    "\n",
    "p.87"
   ]
  },
  {
   "cell_type": "markdown",
   "metadata": {},
   "source": [
    "生成データフォーマット\n",
    "\n",
    "- `n_rounds`: データ数\n",
    "- `n_actions`: 意思決定モデルが選択できる行動の数\n",
    "- `context`: 各データに対する特徴量\n",
    "- `action_context`: 行動を表現するone-hotベクトル\n",
    "- `action`: 過去の意思決定モデル`pi_b`によって選択された行動\n",
    "- `reward`: 過去の意思決定モデル`pi_b`によって選択された行動に対する報酬\n",
    "- `expected_reward`: 各行動に対する報酬の期待値。因果推論モデルで最終的に得たい情報\n",
    "- `pscore`: 過去の意思決定モデル`pi_b`による行動選択確率"
   ]
  },
  {
   "cell_type": "code",
   "execution_count": 2,
   "metadata": {},
   "outputs": [],
   "source": [
    "dataset = SyntheticBanditDataset(\n",
    "    n_actions=3,\n",
    "    dim_context=3,\n",
    "    reward_function=logistic_reward_function,\n",
    "    behavior_policy_function=linear_behavior_policy,\n",
    "    random_state=12345,\n",
    ")"
   ]
  },
  {
   "cell_type": "code",
   "execution_count": 3,
   "metadata": {},
   "outputs": [],
   "source": [
    "training_data = dataset.obtain_batch_bandit_feedback(n_rounds=10000)\n",
    "validation_data = dataset.obtain_batch_bandit_feedback(n_rounds=10000)"
   ]
  },
  {
   "cell_type": "code",
   "execution_count": 4,
   "metadata": {},
   "outputs": [
    {
     "data": {
      "text/plain": [
       "{'n_rounds': 10000,\n",
       " 'n_actions': 3,\n",
       " 'context': array([[-0.20470766,  0.47894334, -0.51943872],\n",
       "        [-0.5557303 ,  1.96578057,  1.39340583],\n",
       "        [ 0.09290788,  0.28174615,  0.76902257],\n",
       "        ...,\n",
       "        [ 0.42468038,  0.48214752, -0.57647866],\n",
       "        [-0.51595888, -1.58196174, -1.39237837],\n",
       "        [-0.74213546, -0.93858948,  0.03919589]]),\n",
       " 'action_context': array([[1, 0, 0],\n",
       "        [0, 1, 0],\n",
       "        [0, 0, 1]]),\n",
       " 'action': array([2, 1, 0, ..., 0, 0, 2]),\n",
       " 'position': None,\n",
       " 'reward': array([1, 1, 1, ..., 1, 1, 1]),\n",
       " 'expected_reward': array([[0.80234945, 0.93064921, 0.89765938],\n",
       "        [0.97029223, 0.9794874 , 0.87322685],\n",
       "        [0.68713039, 0.80479091, 0.71774089],\n",
       "        ...,\n",
       "        [0.51266281, 0.82015984, 0.82594262],\n",
       "        [0.60958744, 0.82872573, 0.8975109 ],\n",
       "        [0.82984387, 0.88413799, 0.85157199]]),\n",
       " 'pi_b': array([[[0.31046875],\n",
       "         [0.34759217],\n",
       "         [0.34193909]],\n",
       " \n",
       "        [[0.27233556],\n",
       "         [0.36713323],\n",
       "         [0.36053121]],\n",
       " \n",
       "        [[0.31443661],\n",
       "         [0.36905853],\n",
       "         [0.31650486]],\n",
       " \n",
       "        ...,\n",
       " \n",
       "        [[0.29858222],\n",
       "         [0.34226718],\n",
       "         [0.3591506 ]],\n",
       " \n",
       "        [[0.38696268],\n",
       "         [0.34808204],\n",
       "         [0.26495528]],\n",
       " \n",
       "        [[0.37011639],\n",
       "         [0.36849075],\n",
       "         [0.26139287]]]),\n",
       " 'pscore': array([0.34193909, 0.36713323, 0.31443661, ..., 0.29858222, 0.38696268,\n",
       "        0.26139287])}"
      ]
     },
     "execution_count": 4,
     "metadata": {},
     "output_type": "execute_result"
    }
   ],
   "source": [
    "training_data"
   ]
  },
  {
   "cell_type": "code",
   "execution_count": 5,
   "metadata": {},
   "outputs": [
    {
     "data": {
      "text/plain": [
       "[[1, 0, 0], [0, 1, 0], [0, 0, 1]]"
      ]
     },
     "execution_count": 5,
     "metadata": {},
     "output_type": "execute_result"
    }
   ],
   "source": [
    "training_data[\"action_context\"].tolist()"
   ]
  },
  {
   "cell_type": "code",
   "execution_count": 6,
   "metadata": {},
   "outputs": [
    {
     "data": {
      "text/plain": [
       "{0, 1}"
      ]
     },
     "execution_count": 6,
     "metadata": {},
     "output_type": "execute_result"
    }
   ],
   "source": [
    "set(training_data[\"reward\"].tolist())"
   ]
  },
  {
   "cell_type": "code",
   "execution_count": 7,
   "metadata": {},
   "outputs": [
    {
     "data": {
      "text/plain": [
       "{'n_rounds': 10000,\n",
       " 'n_actions': 3,\n",
       " 'context': array([[-0.11650276,  2.03041669, -1.69254998],\n",
       "        [ 1.12507165,  2.79660067,  1.31860865],\n",
       "        [-1.20648929, -1.67810852, -0.68169251],\n",
       "        ...,\n",
       "        [-0.7546995 ,  1.08634882,  1.40322608],\n",
       "        [ 1.21124369,  1.32085622,  1.80748171],\n",
       "        [ 0.47636571,  0.91040977, -1.17276984]]),\n",
       " 'action_context': array([[1, 0, 0],\n",
       "        [0, 1, 0],\n",
       "        [0, 0, 1]]),\n",
       " 'action': array([2, 1, 0, ..., 0, 0, 2]),\n",
       " 'position': None,\n",
       " 'reward': array([1, 1, 1, ..., 1, 1, 1]),\n",
       " 'expected_reward': array([[0.90019297, 0.98664076, 0.97140423],\n",
       "        [0.62116139, 0.84704539, 0.64536846],\n",
       "        [0.87498072, 0.91970449, 0.91544817],\n",
       "        ...,\n",
       "        [0.96345478, 0.96794483, 0.85197901],\n",
       "        [0.33034248, 0.50660141, 0.38877329],\n",
       "        [0.54474688, 0.88526753, 0.88923458]]),\n",
       " 'pi_b': array([[[0.25300641],\n",
       "         [0.30834779],\n",
       "         [0.43864579]],\n",
       " \n",
       "        [[0.21926199],\n",
       "         [0.33755816],\n",
       "         [0.44317985]],\n",
       " \n",
       "        [[0.40362881],\n",
       "         [0.36045293],\n",
       "         [0.23591825]],\n",
       " \n",
       "        ...,\n",
       " \n",
       "        [[0.3041727 ],\n",
       "         [0.3779074 ],\n",
       "         [0.3179199 ]],\n",
       " \n",
       "        [[0.26376801],\n",
       "         [0.3677228 ],\n",
       "         [0.36850919]],\n",
       " \n",
       "        [[0.28144307],\n",
       "         [0.32693247],\n",
       "         [0.39162447]]]),\n",
       " 'pscore': array([0.43864579, 0.33755816, 0.40362881, ..., 0.3041727 , 0.26376801,\n",
       "        0.39162447])}"
      ]
     },
     "execution_count": 7,
     "metadata": {},
     "output_type": "execute_result"
    }
   ],
   "source": [
    "validation_data"
   ]
  },
  {
   "cell_type": "markdown",
   "metadata": {},
   "source": [
    "## 意思決定モデルの学習\n",
    "\n",
    "p.90"
   ]
  },
  {
   "cell_type": "code",
   "execution_count": 8,
   "metadata": {},
   "outputs": [],
   "source": [
    "ipw_learner = IPWLearner(\n",
    "    n_actions=dataset.n_actions,\n",
    "    base_classifier=LogisticRegression(C=100, random_state=12345),\n",
    ")"
   ]
  },
  {
   "cell_type": "code",
   "execution_count": 9,
   "metadata": {},
   "outputs": [],
   "source": [
    "ipw_learner.fit(\n",
    "    context=training_data[\"context\"],\n",
    "    action=training_data[\"action\"],\n",
    "    reward=training_data[\"reward\"],\n",
    "    pscore=training_data[\"pscore\"],\n",
    ")"
   ]
  },
  {
   "cell_type": "code",
   "execution_count": 10,
   "metadata": {},
   "outputs": [],
   "source": [
    "action_choice_by_ipw_learner = ipw_learner.predict(\n",
    "    context=validation_data[\"context\"]\n",
    ")"
   ]
  },
  {
   "cell_type": "markdown",
   "metadata": {},
   "source": [
    "### ランダム行動"
   ]
  },
  {
   "cell_type": "code",
   "execution_count": 11,
   "metadata": {},
   "outputs": [],
   "source": [
    "# 比較のためにランダムに行動を選択する\n",
    "random = Random(n_actions=dataset.n_actions, random_state=12345)\n",
    "\n",
    "# バリデーションデータに対して行動選択確率を計算する -> これはランダムなので、行動選択確率は一様分布\n",
    "action_choice_by_random = random.compute_batch_action_dist(\n",
    "    n_rounds=validation_data[\"n_rounds\"]\n",
    ")"
   ]
  },
  {
   "cell_type": "markdown",
   "metadata": {},
   "source": [
    "## 意思決定モデルの性能を評価する\n",
    "\n",
    "p.92"
   ]
  },
  {
   "cell_type": "code",
   "execution_count": 12,
   "metadata": {},
   "outputs": [],
   "source": [
    "# DR推定量を用いるために必要な目的変数予測モデルを構築する\n",
    "# opeモジュールに実装されているRegressionModelに好みの機械学習モデルを渡すことで、目的変数予測モデルを構築できる\n",
    "regression_model = RegressionModel(\n",
    "    n_actions=dataset.n_actions,\n",
    "    base_model=LogisticRegression(C=100, random_state=12345),\n",
    ")\n",
    "\n",
    "# fit_predictメソッドを用いることで、構築した目的変数予測モデルを用いて、バリデーションデータに対する期待報酬を推定できる\n",
    "estimated_rewards_by_reg_model = regression_model.fit_predict(\n",
    "    context=validation_data[\"context\"],\n",
    "    action=validation_data[\"action\"],\n",
    "    reward=validation_data[\"reward\"],\n",
    "    n_folds=3,\n",
    "    random_state=12345,\n",
    ")"
   ]
  },
  {
   "cell_type": "code",
   "execution_count": 13,
   "metadata": {},
   "outputs": [],
   "source": [
    "# 意思決定モデルの性能評価を一気通貫で行うためのOffPolicyEvaluationを定義する\n",
    "ope = OffPolicyEvaluation(\n",
    "    bandit_feedback=validation_data,\n",
    "    ope_estimators=[IPS(), DR()],   # 意思決定モデルの性能評価に用いるOPE推定量を指定する\n",
    ")"
   ]
  },
  {
   "cell_type": "code",
   "execution_count": 14,
   "metadata": {},
   "outputs": [
    {
     "name": "stderr",
     "output_type": "stream",
     "text": [
      "/Volumes/SSD-PSMU3/GitHub/example-open-bandit-pipeline/.venv/lib/python3.10/site-packages/seaborn/categorical.py:82: FutureWarning: iteritems is deprecated and will be removed in a future version. Use .items instead.\n",
      "  plot_data = [np.asarray(s, float) for k, s in iter_data]\n",
      "/Volumes/SSD-PSMU3/GitHub/example-open-bandit-pipeline/.venv/lib/python3.10/site-packages/seaborn/categorical.py:82: FutureWarning: iteritems is deprecated and will be removed in a future version. Use .items instead.\n",
      "  plot_data = [np.asarray(s, float) for k, s in iter_data]\n"
     ]
    },
    {
     "data": {
      "image/png": "[encoded data removed]",
      "text/plain": [
       "<Figure size 800x1240 with 2 Axes>"
      ]
     },
     "metadata": {},
     "output_type": "display_data"
    }
   ],
   "source": [
    "# IPWLearner + ロジスティック回帰の性能をIPS推定量とDR推定量で評価する\n",
    "ope.visualize_off_policy_estimates_of_multiple_policies(\n",
    "    policy_name_list=[\"IPWLearner\", \"Random\"],   # 比較する意思決定モデルの名前\n",
    "    action_dist_list=[\n",
    "        action_choice_by_ipw_learner,   # IPWLearnerの行動選択確率\n",
    "        action_choice_by_random,   # ランダムな行動選択確率\n",
    "    ],\n",
    "    estimated_rewards_by_reg_model=estimated_rewards_by_reg_model,   # 目的変数予測モデルによる期待報酬の推定値\n",
    "    random_state=12345,\n",
    ")"
   ]
  },
  {
   "cell_type": "markdown",
   "metadata": {},
   "source": [
    "### 可視化"
   ]
  },
  {
   "cell_type": "code",
   "execution_count": 15,
   "metadata": {},
   "outputs": [
    {
     "name": "stdout",
     "output_type": "stream",
     "text": [
      "Performance of IPWLearner: 0.7615802728446948\n",
      "Performance of Random: 0.6909769462361114\n"
     ]
    }
   ],
   "source": [
    "# IPWLearnerとrandomの真の性能を計算する\n",
    "performance_of_ipw_learner = dataset.calc_ground_truth_policy_value(\n",
    "    expected_reward=validation_data[\"expected_reward\"],\n",
    "    action_dist=action_choice_by_ipw_learner,\n",
    ")\n",
    "performance_of_random = dataset.calc_ground_truth_policy_value(\n",
    "    expected_reward=validation_data[\"expected_reward\"],\n",
    "    action_dist=action_choice_by_random,\n",
    ")\n",
    "\n",
    "print(\"Performance of IPWLearner:\", performance_of_ipw_learner)\n",
    "print(\"Performance of Random:\", performance_of_random)"
   ]
  }
 ],
 "metadata": {
  "kernelspec": {
   "display_name": ".venv",
   "language": "python",
   "name": "python3"
  },
  "language_info": {
   "codemirror_mode": {
    "name": "ipython",
    "version": 3
   },
   "file_extension": ".py",
   "mimetype": "text/x-python",
   "name": "python",
   "nbconvert_exporter": "python",
   "pygments_lexer": "ipython3",
   "version": "3.10.10"
  }
 },
 "nbformat": 4,
 "nbformat_minor": 2
}
